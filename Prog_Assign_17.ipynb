{
 "cells": [
  {
   "cell_type": "markdown",
   "id": "46ea4416",
   "metadata": {},
   "source": [
    "#### 1. Create a function that takes three arguments a, b, c and returns the sum of the numbers that are evenly divided by c from the range a, b inclusive."
   ]
  },
  {
   "cell_type": "markdown",
   "id": "c70dabe8",
   "metadata": {},
   "source": [
    "Examples: `evenly_divisible(1, 10, 20) ➞ 0"
   ]
  },
  {
   "cell_type": "markdown",
   "id": "8a875570",
   "metadata": {},
   "source": [
    "No number between 1 and 10 can be evenly divided by 20."
   ]
  },
  {
   "cell_type": "markdown",
   "id": "a00deef7",
   "metadata": {},
   "source": [
    "evenly_divisible(1, 10, 2) ➞ 30"
   ]
  },
  {
   "cell_type": "markdown",
   "id": "64574eb5",
   "metadata": {},
   "source": [
    "2 + 4 + 6 + 8 + 10 = 30"
   ]
  },
  {
   "cell_type": "markdown",
   "id": "c6456cb9",
   "metadata": {},
   "source": [
    "evenly_divisible(1, 10, 3) ➞ 18"
   ]
  },
  {
   "cell_type": "markdown",
   "id": "32b759d4",
   "metadata": {},
   "source": [
    "3 + 6 + 9 = 18`"
   ]
  },
  {
   "cell_type": "code",
   "execution_count": 2,
   "id": "d2b2b8af",
   "metadata": {},
   "outputs": [
    {
     "name": "stdout",
     "output_type": "stream",
     "text": [
      "(1, 10, 20) ➞ 0\n",
      "(1, 10, 2) ➞ 30\n",
      "(1, 10, 3) ➞ 18\n"
     ]
    }
   ],
   "source": [
    "def evenDivisible(a,b,c):\n",
    "    divList = []\n",
    "    for num in range(a,b+1):\n",
    "        if num%c == 0:\n",
    "            divList.append(num)\n",
    "    print(f'{a,b,c} ➞ {sum(divList)}')\n",
    "\n",
    "evenDivisible(1,10,20)\n",
    "evenDivisible(1,10,2)\n",
    "evenDivisible(1,10,3)"
   ]
  },
  {
   "cell_type": "markdown",
   "id": "dc5d6ae0",
   "metadata": {},
   "source": [
    "#### 2. Create a function that returns True if a given inequality expression is correct and False otherwise."
   ]
  },
  {
   "cell_type": "markdown",
   "id": "877bce5c",
   "metadata": {},
   "source": [
    "Examples: correct_signs(\"3 < 7 < 11\") ➞ True correct_signs(\"13 > 44 > 33 > 1\") ➞ False correct_signs(\"1 < 2 < 6 < 9 > 3\") ➞ True"
   ]
  },
  {
   "cell_type": "code",
   "execution_count": 3,
   "id": "449349f4",
   "metadata": {},
   "outputs": [
    {
     "name": "stdout",
     "output_type": "stream",
     "text": [
      "Enter the inequality: 5 < 7 < 9\n",
      "5 < 7 < 9 ➞ True\n",
      "Enter the inequality: 12 > 24 < 12\n",
      "12 > 24 < 12 ➞ False\n",
      "Enter the inequality: 1 < 2 < 4 > 3 > 1\n",
      "1 < 2 < 4 > 3 > 1 ➞ True\n"
     ]
    }
   ],
   "source": [
    "def checkEquality():\n",
    "    in_string = input('Enter the inequality: ')\n",
    "    out_bool = eval(in_string)\n",
    "    print(f'{in_string} ➞ {out_bool}')\n",
    "\n",
    "for x in range(3):\n",
    "    checkEquality()"
   ]
  },
  {
   "cell_type": "markdown",
   "id": "2717c1f6",
   "metadata": {},
   "source": [
    "#### 3. Create a function that replaces all the vowels in a string with a specified character."
   ]
  },
  {
   "cell_type": "markdown",
   "id": "11617941",
   "metadata": {},
   "source": [
    "Examples: replace_vowels(\"the aardvark\", \"#\") ➞ \"th# ##rdv#rk\" replace_vowels(\"minnie mouse\", \"?\") ➞ \"m?nn?? m??s?\" replace_vowels(\"shakespeare\", \"\") ➞ \"shksp*r\""
   ]
  },
  {
   "cell_type": "code",
   "execution_count": 4,
   "id": "df14dd03",
   "metadata": {},
   "outputs": [
    {
     "name": "stdout",
     "output_type": "stream",
     "text": [
      "String:  the avengers\n",
      "Replacement character: #\n",
      " the avengers # ➞  th# #v#ng#rs\n",
      "String: the house of the dead\n",
      "Replacement character: !\n",
      "the house of the dead ! ➞ th! h!!s! !f th! d!!d\n",
      "String: Suyash Waykar\n",
      "Replacement character: $\n",
      "Suyash Waykar $ ➞ S$y$sh W$yk$r\n"
     ]
    }
   ],
   "source": [
    "def replaceVowels():\n",
    "    vowels = ['a','e','i','o','u','A','E','I','O','U']\n",
    "    in_string = input(\"String: \")\n",
    "    in_string_copy = in_string\n",
    "    in_char = input('Replacement character: ')\n",
    "    for ele in in_string:\n",
    "        if ele in vowels:\n",
    "            in_string = in_string.replace(ele,in_char)\n",
    "    print(f'{in_string_copy} {in_char} ➞ {in_string}')\n",
    "            \n",
    "for x in range(3):\n",
    "    replaceVowels()"
   ]
  },
  {
   "cell_type": "markdown",
   "id": "88ecfc91",
   "metadata": {},
   "source": [
    "#### 4. Write a function that calculates the factorial of a number recursively."
   ]
  },
  {
   "cell_type": "markdown",
   "id": "425c0fb6",
   "metadata": {},
   "source": [
    "Examples: factorial(5) ➞ 120 factorial(3) ➞ 6 factorial(1) ➞ 1 factorial(0) ➞ 1"
   ]
  },
  {
   "cell_type": "code",
   "execution_count": 5,
   "id": "87279184",
   "metadata": {},
   "outputs": [
    {
     "name": "stdout",
     "output_type": "stream",
     "text": [
      "factorial(5) ➞ 120\n",
      "factorial(3) ➞ 6\n",
      "factorial(1) ➞ 1\n",
      "factorial(0) ➞ 1\n"
     ]
    }
   ],
   "source": [
    "def factorial(n):\n",
    "    if n==0:\n",
    "        return 1\n",
    "    return n * factorial(n-1)\n",
    "\n",
    "print(f'factorial(5) ➞ {factorial(5)}')\n",
    "print(f'factorial(3) ➞ {factorial(3)}')\n",
    "print(f'factorial(1) ➞ {factorial(1)}')\n",
    "print(f'factorial(0) ➞ {factorial(0)}')"
   ]
  },
  {
   "cell_type": "markdown",
   "id": "9d0222f9",
   "metadata": {},
   "source": [
    "#### 5. Hamming distance is the number of characters that differ between two strings."
   ]
  },
  {
   "cell_type": "markdown",
   "id": "48f41ac3",
   "metadata": {},
   "source": [
    "To illustrate: String1: \"abcbba\" String2: \"abcbda\" Hamming Distance: 1 - \"b\" vs. \"d\" is the only difference. Create a function that computes the hamming distance between two strings. Examples: hamming_distance(\"abcde\", \"bcdef\") ➞ 5 hamming_distance(\"abcde\", \"abcde\") ➞ 0 hamming_distance(\"strong\", \"strung\") ➞ 1"
   ]
  },
  {
   "cell_type": "code",
   "execution_count": 6,
   "id": "ea2bf973",
   "metadata": {},
   "outputs": [
    {
     "name": "stdout",
     "output_type": "stream",
     "text": [
      "Enter the String_1: ahfauksnf\n",
      "Enter the String_2: akbsbna\n",
      "Both Strings Must be of Same Length\n",
      "Enter the String_1: hello\n",
      "Enter the String_2: world\n",
      "Hamning Distance b/w hello and world ➞ 4\n",
      "Enter the String_1: yo\n",
      "Enter the String_2: yo\n",
      "Hamning Distance b/w yo and yo ➞ 0\n"
     ]
    }
   ],
   "source": [
    "def genHamDistance():\n",
    "    in_string_1 = input('Enter the String_1: ')\n",
    "    in_string_2 = input('Enter the String_2: ')\n",
    "    if len(in_string_1) == len(in_string_2):\n",
    "        count = 0\n",
    "        for i in range(len(in_string_1)):\n",
    "            if in_string_1[i] != in_string_2[i]:\n",
    "                count = count+1\n",
    "        print(f'Hamning Distance b/w {in_string_1} and {in_string_2} ➞ {count}')\n",
    "    else:\n",
    "        print('Both Strings Must be of Same Length')\n",
    "\n",
    "for x in range(3):\n",
    "    genHamDistance()"
   ]
  }
 ],
 "metadata": {
  "kernelspec": {
   "display_name": "Python 3 (ipykernel)",
   "language": "python",
   "name": "python3"
  },
  "language_info": {
   "codemirror_mode": {
    "name": "ipython",
    "version": 3
   },
   "file_extension": ".py",
   "mimetype": "text/x-python",
   "name": "python",
   "nbconvert_exporter": "python",
   "pygments_lexer": "ipython3",
   "version": "3.9.12"
  }
 },
 "nbformat": 4,
 "nbformat_minor": 5
}
