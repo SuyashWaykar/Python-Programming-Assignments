{
 "cells": [
  {
   "cell_type": "markdown",
   "id": "3e52faad",
   "metadata": {},
   "source": [
    "#### 1. Write a python to find words which are greater than given length k."
   ]
  },
  {
   "cell_type": "code",
   "execution_count": 2,
   "id": "b3eba8b1",
   "metadata": {},
   "outputs": [
    {
     "name": "stdout",
     "output_type": "stream",
     "text": [
      "Enter the string: hi there, happy diwali!\n",
      "Enter the length of the string: 2\n",
      "there,,happy,diwali!\n"
     ]
    }
   ],
   "source": [
    "def checkLengthOfString():\n",
    "    in_string = input(\"Enter the string: \")\n",
    "    in_length = int(input('Enter the length of the string: '))\n",
    "    out_string = []\n",
    "    for string in in_string.split(\" \"):\n",
    "        if len(string) > in_length:\n",
    "            out_string.append(string)\n",
    "    print(','.join(out_string))\n",
    "\n",
    "checkLengthOfString()"
   ]
  },
  {
   "cell_type": "markdown",
   "id": "6cdcb471",
   "metadata": {},
   "source": [
    "#### 2. Write a python program for removing i-th character from a string."
   ]
  },
  {
   "cell_type": "code",
   "execution_count": 3,
   "id": "b5cd6577",
   "metadata": {},
   "outputs": [
    {
     "name": "stdout",
     "output_type": "stream",
     "text": [
      "Enter the String: iNeuron team\n",
      "Enter the ith Character: 3\n",
      "iNeron team\n"
     ]
    }
   ],
   "source": [
    "def removeCharacter():\n",
    "    in_string = input(\"Enter the String: \")\n",
    "    in_char_num = int(input(\"Enter the ith Character: \"))\n",
    "    out_string = ''\n",
    "    for ele in range(len(in_string)):\n",
    "        if ele != in_char_num:\n",
    "            out_string = out_string + in_string[ele]\n",
    "    print(out_string)\n",
    "    \n",
    "removeCharacter()"
   ]
  },
  {
   "cell_type": "markdown",
   "id": "3dd08e1c",
   "metadata": {},
   "source": [
    "#### 3. Write a python program to split and join a string."
   ]
  },
  {
   "cell_type": "code",
   "execution_count": 4,
   "id": "02e40ea1",
   "metadata": {},
   "outputs": [
    {
     "name": "stdout",
     "output_type": "stream",
     "text": [
      "Enter the string: iNeuron full stack data science course\n",
      "Split String: ['iNeuron', 'full', 'stack', 'data', 'science', 'course']\n",
      "Join String: iNeuron full stack data science course\n"
     ]
    }
   ],
   "source": [
    "def splitJoinString():\n",
    "    in_string = input('Enter the string: ')\n",
    "    print(f\"Split String: {in_string.split(' ')}\")\n",
    "    print(f\"Join String: {' '.join(in_string.split(' '))}\")\n",
    "\n",
    "splitJoinString()"
   ]
  },
  {
   "cell_type": "markdown",
   "id": "48e6a224",
   "metadata": {},
   "source": [
    "#### 4. Write a python program to check if a given string is binary string or not."
   ]
  },
  {
   "cell_type": "code",
   "execution_count": 6,
   "id": "7faa6710",
   "metadata": {},
   "outputs": [
    {
     "name": "stdout",
     "output_type": "stream",
     "text": [
      "Enter the string: 1324\n",
      "1324 is not a binary string\n",
      "Enter the string: 11001\n",
      "11001 is a binary string\n"
     ]
    }
   ],
   "source": [
    "def checkBinary():\n",
    "    in_string = input('Enter the string: ')\n",
    "    stun = 0\n",
    "    for ele in in_string:\n",
    "        if ele in ['0','1']:\n",
    "            stun = 1\n",
    "            continue\n",
    "        else:\n",
    "            stun = 0\n",
    "            break\n",
    "    statement = 'is a binary string' if stun == 1 else 'is not a binary string' \n",
    "    print(f'{in_string} {statement}')\n",
    "\n",
    "checkBinary()\n",
    "checkBinary()"
   ]
  },
  {
   "cell_type": "markdown",
   "id": "79fc1653",
   "metadata": {},
   "source": [
    "#### 5. Write a python program to find uncommon words from two strings."
   ]
  },
  {
   "cell_type": "code",
   "execution_count": 8,
   "id": "e6aa14d2",
   "metadata": {},
   "outputs": [
    {
     "name": "stdout",
     "output_type": "stream",
     "text": [
      "Enter the String 1: Good morning!\n",
      "Enter the String 2: Good evening!\n",
      "{'evening!', 'morning!'}\n"
     ]
    }
   ],
   "source": [
    "def unCommonWords():\n",
    "    in_string_1 = set(input(\"Enter the String 1: \").split(' '))\n",
    "    in_string_2 = set(input(\"Enter the String 2: \").split(' '))\n",
    "    out_string = (in_string_1.union(in_string_2)).difference(in_string_1.intersection(in_string_2))\n",
    "    print(out_string)\n",
    "\n",
    "unCommonWords()"
   ]
  },
  {
   "cell_type": "markdown",
   "id": "e375479c",
   "metadata": {},
   "source": [
    "#### 6. Write a python program to find all duplicate characters in string."
   ]
  },
  {
   "cell_type": "code",
   "execution_count": 9,
   "id": "30a93a9e",
   "metadata": {},
   "outputs": [
    {
     "name": "stdout",
     "output_type": "stream",
     "text": [
      "Enter the string: Hello world, diwali coming soon!\n",
      "Duplicate characters are: ['o', ' ', 'i', 'd', 'n', 'w', 'l']\n"
     ]
    }
   ],
   "source": [
    "def duplicateChars():\n",
    "    in_string = input('Enter the string: ')\n",
    "    non_duplicate_list = []\n",
    "    duplicate_list = []\n",
    "    for ele in in_string:\n",
    "        if ele not in non_duplicate_list:\n",
    "            non_duplicate_list.append(ele)\n",
    "        else:\n",
    "            duplicate_list.append(ele)\n",
    "    print(f'Duplicate characters are: {list(set(duplicate_list))}')\n",
    "        \n",
    "duplicateChars()"
   ]
  },
  {
   "cell_type": "markdown",
   "id": "4aaa61a6",
   "metadata": {},
   "source": [
    "#### 7. Write a python program to check if a string contains any special character."
   ]
  },
  {
   "cell_type": "code",
   "execution_count": 11,
   "id": "7115cf8b",
   "metadata": {},
   "outputs": [
    {
     "name": "stdout",
     "output_type": "stream",
     "text": [
      "Enter the string: Max @ fire mode!\n",
      "There are 2 Speical Characters in Max @ fire mode! which are ['@', '!']\n",
      "Enter the string: Max on fire mode\n",
      "There are 0 Speical Characters in Max on fire mode which are []\n"
     ]
    }
   ],
   "source": [
    "def checkSpecialChar():\n",
    "    spl_chars = '[@_!#$%^&*()<>?/\\|}{~:]'\n",
    "    in_num = input('Enter the string: ')\n",
    "    count = 0\n",
    "    char_list = []\n",
    "    for ele in in_num:\n",
    "        if ele in spl_chars:\n",
    "            char_list.append(ele)\n",
    "            count = count+1\n",
    "    print(f'There are {count} Speical Characters in {in_num} which are {char_list}')\n",
    "            \n",
    "        \n",
    "checkSpecialChar()\n",
    "checkSpecialChar()"
   ]
  }
 ],
 "metadata": {
  "kernelspec": {
   "display_name": "Python 3 (ipykernel)",
   "language": "python",
   "name": "python3"
  },
  "language_info": {
   "codemirror_mode": {
    "name": "ipython",
    "version": 3
   },
   "file_extension": ".py",
   "mimetype": "text/x-python",
   "name": "python",
   "nbconvert_exporter": "python",
   "pygments_lexer": "ipython3",
   "version": "3.9.12"
  }
 },
 "nbformat": 4,
 "nbformat_minor": 5
}
