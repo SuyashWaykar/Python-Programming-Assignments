{
 "cells": [
  {
   "cell_type": "markdown",
   "id": "5c5c5545",
   "metadata": {},
   "source": [
    "#### 1. Write a function that stutters a word as if someone is struggling to read it. The first two letters are repeated twice with an ellipsis ... and space after each, and then the word is pronounced with a question mark."
   ]
  },
  {
   "cell_type": "markdown",
   "id": "96ecc2bd",
   "metadata": {},
   "source": [
    "Examples: stutter(\"incredible\") ➞ \"in... in... incredible?\" stutter(\"enthusiastic\") ➞ \"en... en... enthusiastic?\" stutter(\"outstanding\") ➞ \"ou... ou... outstanding?\"\n",
    "\n",
    "Hint :- Assume all input is in lower case and at least two characters long."
   ]
  },
  {
   "cell_type": "code",
   "execution_count": 1,
   "id": "20395204",
   "metadata": {},
   "outputs": [
    {
     "name": "stdout",
     "output_type": "stream",
     "text": [
      "Enter the Word :turbotastic!\n",
      "turbotastic! ➞ tu... tu... turbotastic!?\n",
      "Enter the Word :what speed\n",
      "what speed ➞ wh... wh... what speed?\n",
      "Enter the Word :rutututut\n",
      "rutututut ➞ ru... ru... rutututut?\n"
     ]
    }
   ],
   "source": [
    "def stutterWord():\n",
    "    in_string = input('Enter the Word :')\n",
    "    out_string = in_string.replace(in_string[0:2],((in_string[0:2]+'... ')*2)+ in_string[0:2])  +'?'\n",
    "    print(f'{in_string} ➞ {out_string}')\n",
    "\n",
    "for i in range(3):\n",
    "    stutterWord()"
   ]
  },
  {
   "cell_type": "markdown",
   "id": "06090541",
   "metadata": {},
   "source": [
    "#### 2. Create a function that takes an angle in radians and returns the corresponding angle in degrees rounded to one decimal place."
   ]
  },
  {
   "cell_type": "markdown",
   "id": "5cf5c134",
   "metadata": {},
   "source": [
    "Examples: radians_to_degrees(1) ➞ 57.3 radians_to_degrees(20) ➞ 1145.9 radians_to_degrees(50) ➞ 2864.8"
   ]
  },
  {
   "cell_type": "code",
   "execution_count": 2,
   "id": "4bc7e364",
   "metadata": {},
   "outputs": [
    {
     "name": "stdout",
     "output_type": "stream",
     "text": [
      "Enter the angle in Radians: 7\n",
      "7 radian(s) ➞ 401.1 degrees\n",
      "Enter the angle in Radians: 9\n",
      "9 radian(s) ➞ 515.7 degrees\n",
      "Enter the angle in Radians: 79\n",
      "79 radian(s) ➞ 4526.4 degrees\n"
     ]
    }
   ],
   "source": [
    "import math\n",
    "def radianToDegree():\n",
    "    in_num = int(input('Enter the angle in Radians: '))\n",
    "    out_num = (180/math.pi)*in_num\n",
    "    print(f'{in_num} radian(s) ➞ {out_num:.1f} degrees')\n",
    "\n",
    "for x in range(3):\n",
    "    radianToDegree()\n",
    "    "
   ]
  },
  {
   "cell_type": "markdown",
   "id": "e385ad2e",
   "metadata": {},
   "source": [
    "#### 3. In this challenge, establish if a given integer num is a Curzon number. If 1 plus 2 elevated to num is exactly divisible by 1 plus 2 multiplied by num, then num is a Curzon number. Given a non-negative integer num, implement a function that returns True if num is a Curzon number, or False otherwise."
   ]
  },
  {
   "cell_type": "markdown",
   "id": "a22ffb33",
   "metadata": {},
   "source": [
    "Examples: `is_curzon(5) ➞ True\n",
    "\n",
    "2 ** 5 + 1 = 33\n",
    "\n",
    "2 * 5 + 1 = 11\n",
    "\n",
    "33 is a multiple of 11\n",
    "\n",
    "is_curzon(10) ➞ False\n",
    "\n",
    "2 ** 10 + 1 = 1025\n",
    "\n",
    "2 * 10 + 1 = 21\n",
    "\n",
    "1025 is not a multiple of 21\n",
    "\n",
    "is_curzon(14) ➞ True\n",
    "\n",
    "2 ** 14 + 1 = 16385\n",
    "\n",
    "2 * 14 + 1 = 29\n",
    "\n",
    "16385 is a multiple of 29"
   ]
  },
  {
   "cell_type": "code",
   "execution_count": 3,
   "id": "5f8fe382",
   "metadata": {},
   "outputs": [
    {
     "name": "stdout",
     "output_type": "stream",
     "text": [
      "Enter a number: 7\n",
      "7 is Not a Curzon Number\n",
      "Enter a number: 9\n",
      "9 is a Curzon Number\n",
      "Enter a number: 79\n",
      "79 is Not a Curzon Number\n",
      "Enter a number: 69\n",
      "69 is a Curzon Number\n"
     ]
    }
   ],
   "source": [
    "def checkCurzon():\n",
    "    in_num = int(input(\"Enter a number: \"))\n",
    "    if (pow(2,in_num)+1)%((2*in_num)+1) == 0:\n",
    "        print(f'{in_num} is a Curzon Number')\n",
    "    else:\n",
    "        print(f'{in_num} is Not a Curzon Number')\n",
    "\n",
    "for x in range(4):\n",
    "    checkCurzon()"
   ]
  },
  {
   "cell_type": "markdown",
   "id": "868af07d",
   "metadata": {},
   "source": [
    "#### 4. Given the side length x find the area of a hexagon."
   ]
  },
  {
   "cell_type": "markdown",
   "id": "9741f4ff",
   "metadata": {},
   "source": [
    "Examples: area_of_hexagon(1) ➞ 2.6 area_of_hexagon(2) ➞ 10.4 area_of_hexagon(3) ➞ 23.4"
   ]
  },
  {
   "cell_type": "code",
   "execution_count": 4,
   "id": "dd232fe4",
   "metadata": {},
   "outputs": [
    {
     "name": "stdout",
     "output_type": "stream",
     "text": [
      "Enter the side length of a Hexagon: 7\n",
      "Area for Hexagon of sidelength 7 ➞ 127.3\n",
      "Enter the side length of a Hexagon: 9\n",
      "Area for Hexagon of sidelength 9 ➞ 210.4\n",
      "Enter the side length of a Hexagon: 79\n",
      "Area for Hexagon of sidelength 79 ➞ 16214.6\n"
     ]
    }
   ],
   "source": [
    "import math\n",
    "def areaOfHexagon():\n",
    "    in_num = int(input('Enter the side length of a Hexagon: '))\n",
    "    out_num = ((3*math.sqrt(3))/2)*(pow(in_num,2))\n",
    "    print(f'Area for Hexagon of sidelength {in_num} ➞ {out_num:.1f}')\n",
    "    \n",
    "for x in range(3):\n",
    "    areaOfHexagon()"
   ]
  },
  {
   "cell_type": "markdown",
   "id": "807f2e02",
   "metadata": {},
   "source": [
    "#### 5. Create a function that returns a base-2 (binary) representation of a base-10 (decimal) string number. To convert is simple:"
   ]
  },
  {
   "cell_type": "markdown",
   "id": "cb7bbb7c",
   "metadata": {},
   "source": [
    "((2) means base-2 and (10) means base-10) 010101001(2) = 1 + 8 + 32 + 128. Going from right to left, the value of the most right bit is 1, now from that every bit to the left will be x2 the value, value of an 8 bit binary numbers are (256, 128, 64, 32, 16, 8, 4, 2, 1). Examples: `binary(1) ➞ \"1\""
   ]
  },
  {
   "cell_type": "markdown",
   "id": "c0c4db00",
   "metadata": {},
   "source": [
    "1*1 = 1\n",
    "\n",
    "binary(5) ➞ \"101\"\n",
    "\n",
    "1*1 + 1*4 = 5\n",
    "\n",
    "binary(10) ➞ \"1010\"\n",
    "\n",
    "1*2 + 1*8 = 10"
   ]
  },
  {
   "cell_type": "code",
   "execution_count": 6,
   "id": "63357325",
   "metadata": {},
   "outputs": [
    {
     "name": "stdout",
     "output_type": "stream",
     "text": [
      "Enter a Number: 1\n",
      "Binary of 1 ➞ 1\n",
      "Enter a Number: 2\n",
      "Binary of 2 ➞ 10\n",
      "Enter a Number: 3\n",
      "Binary of 3 ➞ 11\n"
     ]
    }
   ],
   "source": [
    "def getBinary():\n",
    "    in_num = int(input(\"Enter a Number: \"))\n",
    "    out_num = bin(in_num).replace('0b','') \n",
    "    print(f'Binary of {in_num} ➞ {out_num}')\n",
    "\n",
    "for x in range(3):\n",
    "    getBinary()"
   ]
  }
 ],
 "metadata": {
  "kernelspec": {
   "display_name": "Python 3 (ipykernel)",
   "language": "python",
   "name": "python3"
  },
  "language_info": {
   "codemirror_mode": {
    "name": "ipython",
    "version": 3
   },
   "file_extension": ".py",
   "mimetype": "text/x-python",
   "name": "python",
   "nbconvert_exporter": "python",
   "pygments_lexer": "ipython3",
   "version": "3.9.12"
  }
 },
 "nbformat": 4,
 "nbformat_minor": 5
}
