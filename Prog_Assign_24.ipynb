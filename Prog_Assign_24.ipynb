{
 "cells": [
  {
   "cell_type": "markdown",
   "id": "f79dac2e",
   "metadata": {},
   "source": [
    "#### 1. Create a function that takes an integer and returns a list from 1 to the given number, where:"
   ]
  },
  {
   "cell_type": "markdown",
   "id": "3210ebdc",
   "metadata": {},
   "source": [
    "1.If the number can be divided evenly by 4, amplify it by 10 (i.e. return 10 times the number). 2.If the number cannot be divided evenly by 4, simply return the number."
   ]
  },
  {
   "cell_type": "markdown",
   "id": "273512d4",
   "metadata": {},
   "source": [
    "Examples: amplify(4) ➞ [1, 2, 3, 40] amplify(3) ➞ [1, 2, 3] amplify(25) ➞ [1, 2, 3, 40, 5, 6, 7, 80, 9, 10, 11, 120, 13, 14, 15, 160, 17, 18, 19, 200, 21, 22, 23, 240, 25]"
   ]
  },
  {
   "cell_type": "markdown",
   "id": "3e81826d",
   "metadata": {},
   "source": [
    "Notes: 1.The given integer will always be equal to or greater than 1. 2.Include the number (see example above). 3.To perform this problem with its intended purpose, try doing it with list"
   ]
  },
  {
   "cell_type": "code",
   "execution_count": 1,
   "id": "7df607a4",
   "metadata": {},
   "outputs": [
    {
     "name": "stdout",
     "output_type": "stream",
     "text": [
      "4 ➞ [1, 2, 3, 40]\n",
      "3 ➞ [1, 2, 3]\n",
      "25 ➞ [1, 2, 3, 40, 5, 6, 7, 80, 9, 10, 11, 120, 13, 14, 15, 160, 17, 18, 19, 200, 21, 22, 23, 240, 25]\n"
     ]
    }
   ],
   "source": [
    "def amplify(in_num):\n",
    "    out_list = []\n",
    "    for ele in range(1,in_num+1):\n",
    "        if ele%4 == 0:\n",
    "            out_list.append(ele*10)\n",
    "        else:\n",
    "            out_list.append(ele)\n",
    "    print(f'{in_num} ➞ {out_list}')\n",
    "            \n",
    "amplify(4)\n",
    "amplify(3)\n",
    "amplify(25)"
   ]
  },
  {
   "cell_type": "markdown",
   "id": "e48fbc4c",
   "metadata": {},
   "source": [
    "#### 2. Create a function that takes a list of numbers and return the number that's unique."
   ]
  },
  {
   "cell_type": "markdown",
   "id": "0655a995",
   "metadata": {},
   "source": [
    "Examples: unique([3, 3, 3, 7, 3, 3]) ➞ 7 unique([0, 0, 0.77, 0, 0]) ➞ 0.77 unique([0, 1, 1, 1, 1, 1, 1, 1]) ➞ 0"
   ]
  },
  {
   "cell_type": "markdown",
   "id": "428f9ad8",
   "metadata": {},
   "source": [
    "Notes: Test cases will always have exactly one unique number while all others are the same."
   ]
  },
  {
   "cell_type": "code",
   "execution_count": 2,
   "id": "9db0b592",
   "metadata": {},
   "outputs": [
    {
     "name": "stdout",
     "output_type": "stream",
     "text": [
      "[3, 3, 3, 7, 3, 3] ➞ 7\n",
      "[0, 0, 0.77, 0, 0] ➞ 0.77\n",
      "[0, 1, 1, 1, 1, 1, 1, 1] ➞ 0\n"
     ]
    }
   ],
   "source": [
    "def unique(in_list):\n",
    "    out_num = ''\n",
    "    for ele in set(in_list):\n",
    "        if in_list.count(ele) == 1:\n",
    "            out_num = ele\n",
    "    print(f'{in_list} ➞ {out_num}')\n",
    "\n",
    "unique([3, 3, 3, 7, 3, 3])\n",
    "unique([0, 0, 0.77, 0, 0])\n",
    "unique([0, 1, 1, 1, 1, 1, 1, 1])"
   ]
  },
  {
   "cell_type": "markdown",
   "id": "d9cfdffc",
   "metadata": {},
   "source": [
    "#### 3. Your task is to create a Circle constructor that creates a circle with a radius provided by an argument. The circles constructed must have two getters getArea() (PIr^2) and getPerimeter() (2PI*r) which give both respective areas and perimeter (circumference). For help with this class, I have provided you with a Rectangle constructor which you can use as a base example."
   ]
  },
  {
   "cell_type": "markdown",
   "id": "9998fbd0",
   "metadata": {},
   "source": [
    "Examples: circy = Circle(11) circy.getArea()"
   ]
  },
  {
   "cell_type": "markdown",
   "id": "b57054a4",
   "metadata": {},
   "source": [
    "Should return 380.132711084365"
   ]
  },
  {
   "cell_type": "markdown",
   "id": "f864c563",
   "metadata": {},
   "source": [
    "circy = Circle(4.44) circy.getPerimeter()"
   ]
  },
  {
   "cell_type": "markdown",
   "id": "d132d6c9",
   "metadata": {},
   "source": [
    "Should return 27.897342763877365"
   ]
  },
  {
   "cell_type": "markdown",
   "id": "cc743201",
   "metadata": {},
   "source": [
    "Notes: Round results up to the nearest integer."
   ]
  },
  {
   "cell_type": "code",
   "execution_count": 4,
   "id": "f4260615",
   "metadata": {},
   "outputs": [
    {
     "name": "stdout",
     "output_type": "stream",
     "text": [
      "Radius ➞ 380\n",
      "Perimeter ➞ 28\n"
     ]
    }
   ],
   "source": [
    "import math \n",
    "class Circle:\n",
    "    def __init__(self, radius):\n",
    "        self.radius = radius\n",
    "    def getArea(self):\n",
    "        print(f'Radius ➞ {round(math.pi*self.radius*self.radius)}')\n",
    "    def getPerimeter(self):\n",
    "        print(f'Perimeter ➞ {round(2*math.pi*self.radius)}')\n",
    "    \n",
    "circy = Circle(11)\n",
    "circy.getArea()\n",
    "\n",
    "circy = Circle(4.44)\n",
    "circy.getPerimeter()"
   ]
  },
  {
   "cell_type": "markdown",
   "id": "01b3a880",
   "metadata": {},
   "source": [
    "#### 4. Create a function that takes a list of strings and return a list, sorted from shortest to longest."
   ]
  },
  {
   "cell_type": "markdown",
   "id": "bc93d4c5",
   "metadata": {},
   "source": [
    "Examples: sort_by_length([\"Google\", \"Apple\", \"Microsoft\"]) ➞ [\"Apple\", \"Google\", \"Microsoft\"] sort_by_length([\"Leonardo\", \"Michelangelo\", \"Raphael\", \"Donatello\"]) ➞ [\"Raphael\", \"Leonardo\", \"Donatello\", \"Michelangelo\"] sort_by_length([\"Turing\", \"Einstein\", \"Jung\"]) ➞ [\"Jung\", \"Turing\", \"Einstein\"]"
   ]
  },
  {
   "cell_type": "markdown",
   "id": "b959b1e4",
   "metadata": {},
   "source": [
    "Notes: All test cases contain lists with strings of different lengths, so you won't have to deal with multiple strings of the same length."
   ]
  },
  {
   "cell_type": "code",
   "execution_count": 5,
   "id": "2dadf5e4",
   "metadata": {},
   "outputs": [
    {
     "name": "stdout",
     "output_type": "stream",
     "text": [
      "['Apple', 'Google', 'Microsoft']\n",
      "['Raphael', 'Leonardo', 'Donatello', 'Michelangelo']\n",
      "['Jung', 'Turing', 'Einstein']\n"
     ]
    }
   ],
   "source": [
    "def sort_by_length(in_list):\n",
    "    print(sorted(in_list,key=len))\n",
    "\n",
    "sort_by_length([\"Google\", \"Apple\", \"Microsoft\"])\n",
    "sort_by_length([\"Leonardo\", \"Michelangelo\", \"Raphael\", \"Donatello\"])\n",
    "sort_by_length([\"Turing\", \"Einstein\", \"Jung\"])"
   ]
  },
  {
   "cell_type": "markdown",
   "id": "57626ae0",
   "metadata": {},
   "source": [
    "#### 5. Create a function that validates whether three given integers form a Pythagorean triplet. The sum of the squares of the two smallest integers must equal the square of the largest number to be validated."
   ]
  },
  {
   "cell_type": "markdown",
   "id": "a5c50c44",
   "metadata": {},
   "source": [
    "Examples: `is_triplet(3, 4, 5) ➞ True"
   ]
  },
  {
   "cell_type": "markdown",
   "id": "8d794117",
   "metadata": {},
   "source": [
    "3² + 4² = 25"
   ]
  },
  {
   "cell_type": "markdown",
   "id": "1203ebe8",
   "metadata": {},
   "source": [
    "5² = 25"
   ]
  },
  {
   "cell_type": "markdown",
   "id": "e37e7da2",
   "metadata": {},
   "source": [
    "is_triplet(13, 5, 12) ➞ True"
   ]
  },
  {
   "cell_type": "markdown",
   "id": "e6d76bc2",
   "metadata": {},
   "source": [
    "5² + 12² = 169"
   ]
  },
  {
   "cell_type": "markdown",
   "id": "e3e698c4",
   "metadata": {},
   "source": [
    "13² = 169"
   ]
  },
  {
   "cell_type": "markdown",
   "id": "e38c86b2",
   "metadata": {},
   "source": [
    "is_triplet(1, 2, 3) ➞ False"
   ]
  },
  {
   "cell_type": "markdown",
   "id": "307596ed",
   "metadata": {},
   "source": [
    "1² + 2² = 5"
   ]
  },
  {
   "cell_type": "markdown",
   "id": "60e04685",
   "metadata": {},
   "source": [
    "3² = 9`"
   ]
  },
  {
   "cell_type": "markdown",
   "id": "42431c28",
   "metadata": {},
   "source": [
    "Notes: Numbers may not be given in a sorted order."
   ]
  },
  {
   "cell_type": "code",
   "execution_count": 6,
   "id": "be9e3ee7",
   "metadata": {},
   "outputs": [
    {
     "name": "stdout",
     "output_type": "stream",
     "text": [
      "(3, 4, 5) ➞ True\n",
      "(3, 4, 5) ➞ True\n",
      "(1, 2, 3) ➞ False\n"
     ]
    }
   ],
   "source": [
    "def is_triplet(a,b,c):\n",
    "    if ((a**2+b**2) == (c**2)):\n",
    "        print(f'{a,b,c} ➞ {True}')\n",
    "    else:\n",
    "        print(f'{a,b,c} ➞ {False}')\n",
    "        \n",
    "is_triplet(3, 4, 5)\n",
    "is_triplet(3, 4, 5)\n",
    "is_triplet(1, 2, 3)"
   ]
  }
 ],
 "metadata": {
  "kernelspec": {
   "display_name": "Python 3 (ipykernel)",
   "language": "python",
   "name": "python3"
  },
  "language_info": {
   "codemirror_mode": {
    "name": "ipython",
    "version": 3
   },
   "file_extension": ".py",
   "mimetype": "text/x-python",
   "name": "python",
   "nbconvert_exporter": "python",
   "pygments_lexer": "ipython3",
   "version": "3.9.12"
  }
 },
 "nbformat": 4,
 "nbformat_minor": 5
}
