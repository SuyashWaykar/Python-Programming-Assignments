{
 "cells": [
  {
   "cell_type": "markdown",
   "id": "d6168d5a",
   "metadata": {},
   "source": [
    "#### 1. Write a python program to find sum of Array."
   ]
  },
  {
   "cell_type": "code",
   "execution_count": 1,
   "id": "bc819b2c",
   "metadata": {},
   "outputs": [
    {
     "name": "stdout",
     "output_type": "stream",
     "text": [
      "Enter the Array: 1,2,232,2,34,77\n",
      "The sum of (1, 2, 232, 2, 34, 77) is 348\n"
     ]
    }
   ],
   "source": [
    "def sumOfArray():\n",
    "    in_arr = eval(input(\"Enter the Array: \"))\n",
    "    print(f'The sum of {in_arr} is {sum(in_arr)}')\n",
    "\n",
    "sumOfArray()"
   ]
  },
  {
   "cell_type": "markdown",
   "id": "f586f412",
   "metadata": {},
   "source": [
    "#### 2. Write a python program to find largest element in an Array."
   ]
  },
  {
   "cell_type": "code",
   "execution_count": 2,
   "id": "670daad7",
   "metadata": {},
   "outputs": [
    {
     "name": "stdout",
     "output_type": "stream",
     "text": [
      "Enter the Array: 1,2,12,4,12,21,77\n",
      "The Largest Element in (1, 2, 12, 4, 12, 21, 77) is 77\n"
     ]
    }
   ],
   "source": [
    "def largestElement():\n",
    "    in_arr = eval(input(\"Enter the Array: \"))\n",
    "    print(f\"The Largest Element in {in_arr} is {sorted(in_arr, reverse=True)[0]}\")\n",
    "    \n",
    "largestElement()"
   ]
  },
  {
   "cell_type": "markdown",
   "id": "502b8179",
   "metadata": {},
   "source": [
    "#### 3. Write a python program for array rotation."
   ]
  },
  {
   "cell_type": "code",
   "execution_count": 3,
   "id": "174363ac",
   "metadata": {},
   "outputs": [
    {
     "name": "stdout",
     "output_type": "stream",
     "text": [
      "Enter the Array: 23,1,9,23,32,77\n",
      "The Reverse of Array (23, 1, 9, 23, 32, 77) is (77, 32, 23, 9, 1, 23)\n"
     ]
    }
   ],
   "source": [
    "def reverseOfArray():\n",
    "    in_arr = eval(input(\"Enter the Array: \"))\n",
    "    print(f\"The Reverse of Array {in_arr} is {in_arr[::-1]}\")\n",
    "    \n",
    "reverseOfArray()"
   ]
  },
  {
   "cell_type": "markdown",
   "id": "4fd3c52a",
   "metadata": {},
   "source": [
    "#### 4. Write a python program to split the array and add the first part to the end.\n"
   ]
  },
  {
   "cell_type": "code",
   "execution_count": 4,
   "id": "0936d764",
   "metadata": {},
   "outputs": [
    {
     "name": "stdout",
     "output_type": "stream",
     "text": [
      "Enter the Array: 123,2,14,245,2,77\n",
      "The Sum of First and Last Elements of Array (123, 2, 14, 245, 2, 77) is 200\n"
     ]
    }
   ],
   "source": [
    "def sumOfSplits():\n",
    "    in_arr = eval(input(\"Enter the Array: \"))\n",
    "    print(f\"The Sum of First and Last Elements of Array {in_arr} is {in_arr[0]+in_arr[-1]}\")\n",
    "    \n",
    "sumOfSplits()"
   ]
  },
  {
   "cell_type": "markdown",
   "id": "2b887014",
   "metadata": {},
   "source": [
    "#### 5. Write a python program to check if given array is monotonic."
   ]
  },
  {
   "cell_type": "code",
   "execution_count": 5,
   "id": "d365ec83",
   "metadata": {},
   "outputs": [
    {
     "name": "stdout",
     "output_type": "stream",
     "text": [
      "Enter the Array: 1,23,213,2,3,77\n",
      "Array (1, 23, 213, 2, 3, 77) is Not Monotonic\n",
      "Enter the Array: 1,2,3,4,5,6,7\n",
      "Array (1, 2, 3, 4, 5, 6, 7) is Monotonic\n"
     ]
    }
   ],
   "source": [
    "def checkMonotonic():\n",
    "    in_arr = eval(input(\"Enter the Array: \"))\n",
    "    if(all(in_arr[i]<=in_arr[i+1] for i in range(len(in_arr)-1)) or all(in_arr[i]>=in_arr[i+1] for i in range(len(in_arr)-1))):\n",
    "        print(f'Array {in_arr} is Monotonic')\n",
    "    else:\n",
    "        print(f'Array {in_arr} is Not Monotonic')\n",
    "\n",
    "checkMonotonic()\n",
    "checkMonotonic()"
   ]
  }
 ],
 "metadata": {
  "kernelspec": {
   "display_name": "Python 3 (ipykernel)",
   "language": "python",
   "name": "python3"
  },
  "language_info": {
   "codemirror_mode": {
    "name": "ipython",
    "version": 3
   },
   "file_extension": ".py",
   "mimetype": "text/x-python",
   "name": "python",
   "nbconvert_exporter": "python",
   "pygments_lexer": "ipython3",
   "version": "3.9.12"
  }
 },
 "nbformat": 4,
 "nbformat_minor": 5
}
