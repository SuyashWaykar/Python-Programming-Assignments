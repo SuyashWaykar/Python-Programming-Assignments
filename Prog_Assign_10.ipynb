{
 "cells": [
  {
   "cell_type": "markdown",
   "id": "82e97699",
   "metadata": {},
   "source": [
    "#### 1. Write a python program to find sum of elements in a list."
   ]
  },
  {
   "cell_type": "code",
   "execution_count": 2,
   "id": "a6764d13",
   "metadata": {},
   "outputs": [
    {
     "name": "stdout",
     "output_type": "stream",
     "text": [
      "Enter the No of Entries in a List: 7\n",
      "Enter a element: 1\n",
      "Enter a element: 2\n",
      "Enter a element: 3\n",
      "Enter a element: 4\n",
      "Enter a element: 4\n",
      "Enter a element: 4\n",
      "Enter a element: 45\n",
      "Sum of Elements: 63\n"
     ]
    }
   ],
   "source": [
    "def sumofList():\n",
    "    in_ele = int(input('Enter the No of Entries in a List: '))\n",
    "    in_list = []\n",
    "    for itr in range(in_ele):\n",
    "        in_list.append(int(input('Enter a element: ')))\n",
    "    print(f'Sum of Elements: {sum(in_list)}')\n",
    "\n",
    "sumofList()"
   ]
  },
  {
   "cell_type": "markdown",
   "id": "a3967e02",
   "metadata": {},
   "source": [
    "#### 2. Write a python program to multiply all numbers in the list."
   ]
  },
  {
   "cell_type": "code",
   "execution_count": 4,
   "id": "bf756fc6",
   "metadata": {},
   "outputs": [
    {
     "name": "stdout",
     "output_type": "stream",
     "text": [
      "Enter the No of Entries in a List: 7\n",
      "Enter a element: 12\n",
      "Enter a element: 32\n",
      "Enter a element: 3\n",
      "Enter a element: 2\n",
      "Enter a element: 22\n",
      "Enter a element: 3\n",
      "Enter a element: 34\n",
      "5170176\n"
     ]
    }
   ],
   "source": [
    "def mulofList():\n",
    "    in_ele = int(input('Enter the No of Entries in a List: '))\n",
    "    in_list = []\n",
    "    mul = 1\n",
    "    for itr in range(in_ele):\n",
    "        in_list.append(int(input('Enter a element: ')))\n",
    "    for ele in in_list:\n",
    "        mul = mul * ele\n",
    "    print(mul)\n",
    "\n",
    "mulofList()"
   ]
  },
  {
   "cell_type": "markdown",
   "id": "cf677e21",
   "metadata": {},
   "source": [
    "#### 3. Write a python program to find smallest number in the list."
   ]
  },
  {
   "cell_type": "code",
   "execution_count": 5,
   "id": "1797bbbe",
   "metadata": {},
   "outputs": [
    {
     "name": "stdout",
     "output_type": "stream",
     "text": [
      "Enter the No of elements in a list: 7\n",
      "Enter a Element: 12\n",
      "Enter a Element: 2\n",
      "Enter a Element: 12\n",
      "Enter a Element: 3\n",
      "Enter a Element: 3\n",
      "Enter a Element: 2\n",
      "Enter a Element: 3\n",
      "The Smallest Element in [12, 2, 12, 3, 3, 2, 3] is 2\n"
     ]
    }
   ],
   "source": [
    "def smallEleInList():\n",
    "    in_ele = int(input('Enter the No of elements in a list: '))\n",
    "    in_list = []\n",
    "    for ele in range(in_ele):\n",
    "        in_list.append(int(input('Enter a Element: ')))\n",
    "    print(f'The Smallest Element in {in_list} is {sorted(in_list)[0]}')\n",
    "smallEleInList()"
   ]
  },
  {
   "cell_type": "markdown",
   "id": "10e0da7d",
   "metadata": {},
   "source": [
    "#### 4. Write a python program to find largest number in the list."
   ]
  },
  {
   "cell_type": "code",
   "execution_count": 6,
   "id": "e94bc965",
   "metadata": {},
   "outputs": [
    {
     "name": "stdout",
     "output_type": "stream",
     "text": [
      "Enter the No of elements in a list: 7\n",
      "Enter a Element: 12\n",
      "Enter a Element: 2\n",
      "Enter a Element: 3\n",
      "Enter a Element: 23\n",
      "Enter a Element: 2\n",
      "Enter a Element: 3\n",
      "Enter a Element: 2\n",
      "The Largest Element in [12, 2, 3, 23, 2, 3, 2] is 23\n"
     ]
    }
   ],
   "source": [
    "def largestEleInList():\n",
    "    in_ele = int(input('Enter the No of elements in a list: '))\n",
    "    in_list = []\n",
    "    for ele in range(in_ele):\n",
    "        in_list.append(int(input('Enter a Element: ')))\n",
    "    print(f'The Largest Element in {in_list} is {sorted(in_list, reverse=True)[0]}')\n",
    "\n",
    "largestEleInList()"
   ]
  },
  {
   "cell_type": "markdown",
   "id": "7f866438",
   "metadata": {},
   "source": [
    "#### 5. Write a python program to find second largest number in the list."
   ]
  },
  {
   "cell_type": "code",
   "execution_count": 9,
   "id": "0a48ded4",
   "metadata": {},
   "outputs": [
    {
     "name": "stdout",
     "output_type": "stream",
     "text": [
      "Enter the No of elements in a list: 7\n",
      "Enter a Element: 1\n",
      "Enter a Element: 2\n",
      "Enter a Element: 3\n",
      "Enter a Element: 34\n",
      "Enter a Element: 5\n",
      "Enter a Element: 6\n",
      "Enter a Element: 7\n",
      "The Second Largest Element in [1, 2, 3, 34, 5, 6, 7] is 7\n"
     ]
    }
   ],
   "source": [
    "def secondLargestEleInList():\n",
    "    in_ele = int(input('Enter the No of elements in a list: '))\n",
    "    in_list = []\n",
    "    for ele in range(in_ele):\n",
    "        in_list.append(int(input('Enter a Element: ')))\n",
    "    print(f'The Second Largest Element in {in_list} is {sorted(in_list, reverse=True)[1]}')\n",
    "\n",
    "secondLargestEleInList()\n"
   ]
  },
  {
   "cell_type": "markdown",
   "id": "568a85ee",
   "metadata": {},
   "source": [
    "#### 6. Write a python program to find even numbers in the list."
   ]
  },
  {
   "cell_type": "code",
   "execution_count": 10,
   "id": "d59ef466",
   "metadata": {},
   "outputs": [
    {
     "name": "stdout",
     "output_type": "stream",
     "text": [
      "Enter the No of elements in a list: 7\n",
      "Enter a Element: 3\n",
      "Enter a Element: 2\n",
      "Enter a Element: 34\n",
      "Enter a Element: 5\n",
      "Enter a Element: 6\n",
      "Enter a Element: 7\n",
      "Enter a Element: 89\n",
      "The 4 Largest Element in [3, 2, 34, 5, 6, 7, 89] is [89, 34, 7, 6]\n"
     ]
    }
   ],
   "source": [
    "def nLargestEleInList(k):\n",
    "    in_ele = int(input('Enter the No of elements in a list: '))\n",
    "    in_list = []\n",
    "    for ele in range(in_ele):\n",
    "        in_list.append(int(input('Enter a Element: ')))\n",
    "    print(f'The {k} Largest Element in {in_list} is {sorted(in_list, reverse=True)[0:k]}')\n",
    "\n",
    "nLargestEleInList(4)"
   ]
  },
  {
   "cell_type": "markdown",
   "id": "aecbf57f",
   "metadata": {},
   "source": [
    "#### 7. Write a python program to find even numbers in the list."
   ]
  },
  {
   "cell_type": "code",
   "execution_count": 12,
   "id": "bb060f07",
   "metadata": {},
   "outputs": [
    {
     "name": "stdout",
     "output_type": "stream",
     "text": [
      "Enter the No of elements in a list: 7\n",
      "Enter a Element: 4\n",
      "Enter a Element: 44\n",
      "Enter a Element: 566\n",
      "Enter a Element: 54\n",
      "Enter a Element: 223\n",
      "Enter a Element: 22\n",
      "Enter a Element: 12\n",
      "The Even Elements in [4, 44, 566, 54, 223, 22, 12] are [4, 44, 566, 54, 22, 12]\n"
     ]
    }
   ],
   "source": [
    "def evenNoInList():\n",
    "    in_ele = int(input('Enter the No of elements in a list: '))\n",
    "    in_list = []\n",
    "    even_list = []\n",
    "    for ele in range(in_ele):\n",
    "        in_list.append(int(input('Enter a Element: ')))\n",
    "    for ele in in_list:\n",
    "        if ele%2 == 0:\n",
    "            even_list.append(ele)\n",
    "    print(f'The Even Elements in {in_list} are {even_list}')\n",
    "\n",
    "evenNoInList()"
   ]
  },
  {
   "cell_type": "markdown",
   "id": "dc63b1d2",
   "metadata": {},
   "source": [
    "#### 8. Write a python program to find odd numbers in the list."
   ]
  },
  {
   "cell_type": "code",
   "execution_count": 13,
   "id": "d1950e4e",
   "metadata": {},
   "outputs": [
    {
     "name": "stdout",
     "output_type": "stream",
     "text": [
      "Enter the No of elements in a list: 7\n",
      "Enter a Element: 12\n",
      "Enter a Element: 2\n",
      "Enter a Element: 2\n",
      "Enter a Element: 3\n",
      "Enter a Element: 43\n",
      "Enter a Element: 4\n",
      "Enter a Element: 5\n",
      "The Even Elements in [12, 2, 2, 3, 43, 4, 5] are [3, 43, 5]\n"
     ]
    }
   ],
   "source": [
    "def oddNoInList():\n",
    "    in_ele = int(input('Enter the No of elements in a list: '))\n",
    "    in_list = []\n",
    "    odd_list = []\n",
    "    for ele in range(in_ele):\n",
    "        in_list.append(int(input('Enter a Element: ')))\n",
    "    for ele in in_list:\n",
    "        if ele%2 != 0:\n",
    "            odd_list.append(ele)\n",
    "    print(f'The Even Elements in {in_list} are {odd_list}')\n",
    "\n",
    "oddNoInList()"
   ]
  },
  {
   "cell_type": "markdown",
   "id": "6beebb4b",
   "metadata": {},
   "source": [
    "#### 9. Write a python program to remove empty list from list."
   ]
  },
  {
   "cell_type": "code",
   "execution_count": 15,
   "id": "b64b60fd",
   "metadata": {},
   "outputs": [
    {
     "name": "stdout",
     "output_type": "stream",
     "text": [
      "Enter all elements of the list: [12,[],2,3,43,433,4,5,3]\n",
      "There is an Empty list in [12, [], 2, 3, 43, 433, 4, 5, 3] at Position 1\n",
      "The List after removing [] is [12, 2, 3, 43, 433, 4, 5, 3]\n"
     ]
    }
   ],
   "source": [
    "def checkEmptyList():\n",
    "    in_list = eval(input('Enter all elements of the list: '))\n",
    "    if [] in in_list:\n",
    "        print(f'There is an Empty list in {in_list} at Position {in_list.index([])}')\n",
    "        in_list.remove([])\n",
    "        print(f'The List after removing [] is {in_list}')\n",
    "    else:\n",
    "        print(f'There is no [] List in the list {in_list}')\n",
    "        \n",
    "checkEmptyList()"
   ]
  },
  {
   "cell_type": "markdown",
   "id": "85b7363b",
   "metadata": {},
   "source": [
    "#### 10. Write a python program to cloning or copying a list."
   ]
  },
  {
   "cell_type": "code",
   "execution_count": 16,
   "id": "59e55eac",
   "metadata": {},
   "outputs": [
    {
     "name": "stdout",
     "output_type": "stream",
     "text": [
      "Enter a list[1,21,3,2,4,24,4,2,4,5]\n",
      "[1, 21, 3, 2, 4, 24, 4, 2, 4, 5] 2110186348352\n",
      "[1, 21, 3, 2, 4, 24, 4, 2, 4, 5] 2110186326784\n"
     ]
    }
   ],
   "source": [
    "import copy\n",
    "\n",
    "def cloneList():\n",
    "    in_list = eval(input('Enter a list'))\n",
    "    print(in_list, id(in_list))\n",
    "    cloned_list = in_list.copy()\n",
    "    print(cloned_list, id(cloned_list))\n",
    "\n",
    "cloneList()"
   ]
  },
  {
   "cell_type": "markdown",
   "id": "4aa5862a",
   "metadata": {},
   "source": [
    "#### 11. Write a python program to count occurences of an element in a list."
   ]
  },
  {
   "cell_type": "code",
   "execution_count": 18,
   "id": "ac1d0960",
   "metadata": {},
   "outputs": [
    {
     "name": "stdout",
     "output_type": "stream",
     "text": [
      "Enter the elements of the list: [1,1,2,3,3,44234,2,4,32564,79]\n",
      "Enter the element to find: 79\n",
      "There are 1 occurences of 79 in [1, 1, 2, 3, 3, 44234, 2, 4, 32564, 79]\n"
     ]
    }
   ],
   "source": [
    "def checkOccurence():\n",
    "    in_list = eval(input('Enter the elements of the list: '))\n",
    "    in_num = eval(input('Enter the element to find: '))\n",
    "    count = 0\n",
    "    if in_num in in_list:\n",
    "        for ele in in_list:\n",
    "            if ele == in_num:\n",
    "                count = count+1\n",
    "    print(f'There are {count} occurences of {in_num} in {in_list}')\n",
    "checkOccurence()"
   ]
  }
 ],
 "metadata": {
  "kernelspec": {
   "display_name": "Python 3 (ipykernel)",
   "language": "python",
   "name": "python3"
  },
  "language_info": {
   "codemirror_mode": {
    "name": "ipython",
    "version": 3
   },
   "file_extension": ".py",
   "mimetype": "text/x-python",
   "name": "python",
   "nbconvert_exporter": "python",
   "pygments_lexer": "ipython3",
   "version": "3.9.12"
  }
 },
 "nbformat": 4,
 "nbformat_minor": 5
}
